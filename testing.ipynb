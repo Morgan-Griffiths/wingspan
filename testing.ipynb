{
 "cells": [
  {
   "cell_type": "code",
   "execution_count": 28,
   "metadata": {},
   "outputs": [],
   "source": [
    "from wingspan.board import Board\n",
    "from wingspan.game import Game\n",
    "from wingspan.food import Food\n",
    "from wingspan.helpers import Habitat"
   ]
  },
  {
   "cell_type": "code",
   "execution_count": 2,
   "metadata": {},
   "outputs": [],
   "source": [
    "game = Game(1)\n",
    "observation,valid_actions,reward,done = game.reset()"
   ]
  },
  {
   "cell_type": "code",
   "execution_count": 3,
   "metadata": {},
   "outputs": [
    {
     "name": "stdout",
     "output_type": "stream",
     "text": [
      "Adding bird card painted whitestart to 0 0\n",
      "Adding bird card carolina wren to 0 1\n",
      "Adding bird card common grackle  to 0 2\n",
      "Adding bird card downy woodpecker  to 0 3\n"
     ]
    }
   ],
   "source": [
    "# fill up forest\n",
    "\n",
    "current_col = 0\n",
    "for i in range(20):\n",
    "    card = game.shared.birds.cards[i]\n",
    "    if card.habitat['forest']:\n",
    "        game.players[0].board.add_bird_card(card,Habitat.forest,current_col)\n",
    "        current_col += 1\n",
    "        if current_col == 4:\n",
    "            break\n"
   ]
  },
  {
   "cell_type": "code",
   "execution_count": 4,
   "metadata": {},
   "outputs": [
    {
     "name": "stdout",
     "output_type": "stream",
     "text": [
      "False\n"
     ]
    }
   ],
   "source": [
    "\n",
    "# dir(game.players[0].board)\n",
    "game.players[0].eggs = 1\n",
    "print(game.players[0].board.is_habitat_available('forest',game.players[0].eggs))"
   ]
  },
  {
   "cell_type": "code",
   "execution_count": 5,
   "metadata": {},
   "outputs": [
    {
     "data": {
      "text/plain": [
       "[Habitat.forest 0 0 painted whitestart,\n",
       " Habitat.forest 0 0 carolina wren,\n",
       " Habitat.forest 0 0 common grackle ,\n",
       " Habitat.forest 0 0 downy woodpecker ,\n",
       " Habitat.forest 0 0 None]"
      ]
     },
     "execution_count": 5,
     "metadata": {},
     "output_type": "execute_result"
    }
   ],
   "source": [
    "game.players[0].board.board[0]"
   ]
  },
  {
   "cell_type": "code",
   "execution_count": 6,
   "metadata": {},
   "outputs": [
    {
     "data": {
      "text/plain": [
       "True"
      ]
     },
     "execution_count": 6,
     "metadata": {},
     "output_type": "execute_result"
    }
   ],
   "source": [
    "any(game.players[0].board.board[0])"
   ]
  },
  {
   "attachments": {},
   "cell_type": "markdown",
   "metadata": {},
   "source": [
    "# Test food contains"
   ]
  },
  {
   "cell_type": "code",
   "execution_count": 20,
   "metadata": {},
   "outputs": [
    {
     "data": {
      "text/plain": [
       "\n",
       "\n",
       "atlantic puffin \n",
       "Cost: {'invertebrate': 0, 'seed': 0, 'fish': 3, 'fruit': 0, 'rodent': 0, 'wild': 0, '/_(food_cost)': False} \n",
       "Wingspan: 53 \n",
       "Nest: wild \n",
       "Egg capacity: 1 \n",
       "Points: 8"
      ]
     },
     "execution_count": 20,
     "metadata": {},
     "output_type": "execute_result"
    }
   ],
   "source": [
    "game.shared.birds.cards[51] "
   ]
  },
  {
   "cell_type": "code",
   "execution_count": 30,
   "metadata": {},
   "outputs": [
    {
     "name": "stdout",
     "output_type": "stream",
     "text": [
      "1\n"
     ]
    }
   ],
   "source": [
    "print(Food.invertebrate.value)"
   ]
  },
  {
   "cell_type": "code",
   "execution_count": 31,
   "metadata": {},
   "outputs": [
    {
     "name": "stdout",
     "output_type": "stream",
     "text": [
      "dict_keys([invertebrate, seed, fruit, rodent, fish])\n"
     ]
    },
    {
     "ename": "KeyError",
     "evalue": "1",
     "output_type": "error",
     "traceback": [
      "\u001b[0;31m---------------------------------------------------------------------------\u001b[0m",
      "\u001b[0;31mKeyError\u001b[0m                                  Traceback (most recent call last)",
      "\u001b[1;32m/Users/Shuza/Code/Wingspan/testing.ipynb Cell 10\u001b[0m in \u001b[0;36m3\n\u001b[1;32m      <a href='vscode-notebook-cell:/Users/Shuza/Code/Wingspan/testing.ipynb#X16sZmlsZQ%3D%3D?line=0'>1</a>\u001b[0m \u001b[39mprint\u001b[39m(game\u001b[39m.\u001b[39mplayers[\u001b[39m0\u001b[39m]\u001b[39m.\u001b[39mfood\u001b[39m.\u001b[39mfood\u001b[39m.\u001b[39mkeys())\n\u001b[0;32m----> <a href='vscode-notebook-cell:/Users/Shuza/Code/Wingspan/testing.ipynb#X16sZmlsZQ%3D%3D?line=2'>3</a>\u001b[0m game\u001b[39m.\u001b[39;49mplayers[\u001b[39m0\u001b[39;49m]\u001b[39m.\u001b[39;49mdiscard_food(Food\u001b[39m.\u001b[39;49minvertebrate\u001b[39m.\u001b[39;49mvalue)\n",
      "File \u001b[0;32m~/Code/Wingspan/wingspan/player.py:53\u001b[0m, in \u001b[0;36mPlayer.discard_food\u001b[0;34m(self, food)\u001b[0m\n\u001b[1;32m     52\u001b[0m \u001b[39mdef\u001b[39;00m \u001b[39mdiscard_food\u001b[39m(\u001b[39mself\u001b[39m,food):\n\u001b[0;32m---> 53\u001b[0m     \u001b[39mself\u001b[39;49m\u001b[39m.\u001b[39;49mfood\u001b[39m.\u001b[39;49mdiscard(food)\n",
      "File \u001b[0;32m~/Code/Wingspan/wingspan/player_food.py:23\u001b[0m, in \u001b[0;36mPlayerFood.discard\u001b[0;34m(self, food_type)\u001b[0m\n\u001b[1;32m     22\u001b[0m \u001b[39mdef\u001b[39;00m \u001b[39mdiscard\u001b[39m(\u001b[39mself\u001b[39m, food_type):\n\u001b[0;32m---> 23\u001b[0m     \u001b[39mself\u001b[39m\u001b[39m.\u001b[39mfood[food_type] \u001b[39m-\u001b[39m\u001b[39m=\u001b[39m \u001b[39m1\u001b[39m\n",
      "\u001b[0;31mKeyError\u001b[0m: 1"
     ]
    }
   ],
   "source": [
    "print(game.players[0].food.food.keys())\n",
    "\n",
    "game.players[0].discard_food(Food.invertebrate)"
   ]
  },
  {
   "cell_type": "code",
   "execution_count": 32,
   "metadata": {},
   "outputs": [
    {
     "name": "stdout",
     "output_type": "stream",
     "text": [
      "atlantic puffin\n"
     ]
    },
    {
     "data": {
      "text/plain": [
       "False"
      ]
     },
     "execution_count": 32,
     "metadata": {},
     "output_type": "execute_result"
    }
   ],
   "source": [
    "game.shared.birds.cards[51] in game.players[0].food"
   ]
  },
  {
   "attachments": {},
   "cell_type": "markdown",
   "metadata": {},
   "source": [
    "# Test picking food from feeder\n",
    "\n",
    "## Test discard for food"
   ]
  },
  {
   "cell_type": "code",
   "execution_count": null,
   "metadata": {},
   "outputs": [],
   "source": [
    "game.shared"
   ]
  }
 ],
 "metadata": {
  "kernelspec": {
   "display_name": "Python 3",
   "language": "python",
   "name": "python3"
  },
  "language_info": {
   "codemirror_mode": {
    "name": "ipython",
    "version": 3
   },
   "file_extension": ".py",
   "mimetype": "text/x-python",
   "name": "python",
   "nbconvert_exporter": "python",
   "pygments_lexer": "ipython3",
   "version": "3.10.8"
  },
  "orig_nbformat": 4
 },
 "nbformat": 4,
 "nbformat_minor": 2
}
